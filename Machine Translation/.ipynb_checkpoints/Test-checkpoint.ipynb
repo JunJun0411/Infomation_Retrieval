{
 "cells": [
  {
   "cell_type": "code",
   "execution_count": 3,
   "metadata": {},
   "outputs": [
    {
     "name": "stderr",
     "output_type": "stream",
     "text": [
      "Traceback (most recent call last):\n",
      "  File \"sanity_check.py\", line 23, in <module>\n",
      "    from docopt import docopt\n",
      "ModuleNotFoundError: No module named 'docopt'\n"
     ]
    }
   ],
   "source": [
    "!python sanity_check.py 1d"
   ]
  }
 ],
 "metadata": {
  "kernelspec": {
   "display_name": "Python 3",
   "language": "python",
   "name": "python3"
  },
  "language_info": {
   "codemirror_mode": {
    "name": "ipython",
    "version": 3
   },
   "file_extension": ".py",
   "mimetype": "text/x-python",
   "name": "python",
   "nbconvert_exporter": "python",
   "pygments_lexer": "ipython3",
   "version": "3.7.9"
  }
 },
 "nbformat": 4,
 "nbformat_minor": 4
}
