{
 "cells": [
  {
   "cell_type": "code",
   "execution_count": 5,
   "metadata": {},
   "outputs": [
    {
     "data": {
      "text/plain": [
       "[['a', 'b', 'c', 'a', 'b', 'c'],\n",
       " ['d', 'e', 'f', 'g', '0', '0'],\n",
       " ['a', 'b', 'c', '0', '0', '0'],\n",
       " ['a', 'b', 'c', '0', '0', '0']]"
      ]
     },
     "execution_count": 5,
     "metadata": {},
     "output_type": "execute_result"
    }
   ],
   "source": [
    "sents = [['a', 'b', 'c', 'a', 'b', 'c'],\n",
    "    ['d', 'e', 'f', 'g'],\n",
    "        ['a', 'b', 'c'],\n",
    "        ['a', 'b', 'c']]\n",
    "pad_token = '0'\n",
    "\n",
    "sents_len_list = max([len(s) for s in sents])\n",
    "\n",
    "sents_padded = [s + [pad_token] * (sents_len_list - len(s)) for s in sents]\n",
    "sents_padded"
   ]
  },
  {
   "cell_type": "code",
   "execution_count": 10,
   "metadata": {},
   "outputs": [
    {
     "data": {
      "text/plain": [
       "9"
      ]
     },
     "execution_count": 10,
     "metadata": {},
     "output_type": "execute_result"
    }
   ],
   "source": [
    "import numpy as np\n",
    "import torch\n",
    "import torch.nn as nn\n",
    "import torch.optim as optim\n",
    "\n",
    "sentences = [\"i like dog\", \"i love coffee\", \"i hate milk\", \"you like cat\", \"you love milk\", \"you hate coffee\"]\n",
    "dtype = torch.float\n",
    "\n",
    "\"\"\"\n",
    "Word Processing\n",
    "\"\"\"\n",
    "word_list = list(set(\" \".join(sentences).split()))\n",
    "word_dict = {w: i for i, w in enumerate(word_list)}\n",
    "number_dict = {i: w for i, w in enumerate(word_list)}\n",
    "n_class = len(word_dict)\n",
    "word_dict\n",
    "number_dict\n",
    "n_class"
   ]
  },
  {
   "cell_type": "code",
   "execution_count": 24,
   "metadata": {},
   "outputs": [
    {
     "name": "stdout",
     "output_type": "stream",
     "text": [
      "tensor([[[2, 8, 4],\n",
      "         [6, 1, 0]],\n",
      "\n",
      "        [[1, 3, 6],\n",
      "         [2, 8, 8]]])\n",
      "tensor([[[9, 9, 7, 9],\n",
      "         [5, 8, 8, 8],\n",
      "         [4, 0, 9, 7]],\n",
      "\n",
      "        [[2, 2, 5, 5],\n",
      "         [2, 4, 4, 0],\n",
      "         [0, 0, 2, 1]]])\n"
     ]
    },
    {
     "data": {
      "text/plain": [
       "tensor([[[ 74,  82, 114, 110],\n",
       "         [ 59,  62,  50,  62]],\n",
       "\n",
       "        [[  8,  14,  29,  11],\n",
       "         [ 20,  36,  58,  18]]])"
      ]
     },
     "execution_count": 24,
     "metadata": {},
     "output_type": "execute_result"
    }
   ],
   "source": [
    "input1 = torch.randint(10, (2, 2, 3))\n",
    "mat2 = torch.randint(10, (2, 3, 4))\n",
    "print(input1)\n",
    "print(mat2)\n",
    "res = torch.bmm(input1, mat2)\n",
    "res"
   ]
  },
  {
   "cell_type": "code",
   "execution_count": 26,
   "metadata": {},
   "outputs": [
    {
     "name": "stdout",
     "output_type": "stream",
     "text": [
      "Running Sanity Check for Question 1d: Encode\n",
      "--------------------------------------------------------------------------------\n",
      "enc_hiddens Sanity Checks Passed!\n",
      "dec_init_state[0] Sanity Checks Passed!\n",
      "dec_init_state[1] Sanity Checks Passed!\n",
      "--------------------------------------------------------------------------------\n",
      "All Sanity Checks Passed for Question 1d: Encode!\n",
      "--------------------------------------------------------------------------------\n"
     ]
    },
    {
     "name": "stderr",
     "output_type": "stream",
     "text": [
      "[nltk_data] Downloading package punkt to C:\\Users\\Jun/nltk_data...\n",
      "[nltk_data]   Package punkt is already up-to-date!\n"
     ]
    }
   ],
   "source": [
    "!python sanity_check.py 1d"
   ]
  },
  {
   "cell_type": "code",
   "execution_count": 28,
   "metadata": {},
   "outputs": [
    {
     "name": "stderr",
     "output_type": "stream",
     "text": [
      "'CUDA_VISIBLE_DEVICES'은(는) 내부 또는 외부 명령, 실행할 수 있는 프로그램, 또는\n",
      "배치 파일이 아닙니다.\n"
     ]
    }
   ],
   "source": []
  }
 ],
 "metadata": {
  "kernelspec": {
   "display_name": "Python 3",
   "language": "python",
   "name": "python3"
  },
  "language_info": {
   "codemirror_mode": {
    "name": "ipython",
    "version": 3
   },
   "file_extension": ".py",
   "mimetype": "text/x-python",
   "name": "python",
   "nbconvert_exporter": "python",
   "pygments_lexer": "ipython3",
   "version": "3.7.9"
  }
 },
 "nbformat": 4,
 "nbformat_minor": 4
}
